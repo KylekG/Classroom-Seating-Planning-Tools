{
 "cells": [
  {
   "cell_type": "markdown",
   "metadata": {},
   "source": [
    "# Classroom Seating Planning Tool\n",
    "This tool helps make seating plans for rooms. To solve a room:\n",
    "* First install all the necessary packages below for the tool to run. \n",
    "* Next run the cell below to import them all.\n",
    "* Add a viable room diagram jpg or png to the file location of the tool\n",
    "* Adjust the parameters to match the room\n",
    "* Run all remaining cells and follow the instructions provided in the window. Green buttons are steps you have completed whilered buttons are steps you have not. "
   ]
  },
  {
   "cell_type": "code",
   "execution_count": 1,
   "metadata": {},
   "outputs": [],
   "source": [
    "import main as cpmain\n"
   ]
  },
  {
   "cell_type": "markdown",
   "metadata": {},
   "source": [
    "In the cell below, modify the parameters to match your situation.\n",
    "* Screen_Height and Screen_Width must be equalto or smaller than your screen's dimensions or the window size will be larger than the screen.\n",
    "* Floor must be the name of a to-scale classroom diagram in the same file location as the tool.\n",
    "* LengthOfScaleInUnits must be the length of the scale of the diagram in terms of the units used when specifying how far apart chairs need to be.\n",
    "* DistanceInUnitsForSocialDistancing must be the distance in the same units as LengthOfScaleInUnits that the chairs in a room must be apart.\n",
    "* ScaleOrientation is the orientation of the scale of the diagram.\n",
    "* Chair_Scale is the factor by which to scale up the image of each chair orientation when designating their shape.\n",
    "* solution_name is for defining what you want the name of the classroom's seating solution to be.\n",
    "* finding_threshold is the threshold the program uses in order to declare similarity between a chair orientation and a part of the image. If it is too low, the tool will detect chairs in places where they are not present, while a value that is too high will result in some chairs not being designated. finding_threshold has a maximum of 1 and a minimum of 0.\n",
    "* Show_Instructions dictates whether or not instructions are shown. Set it to False to disable them.\n"
   ]
  },
  {
   "cell_type": "code",
   "execution_count": 2,
   "metadata": {},
   "outputs": [],
   "source": [
    "#Window Configs:\n",
    "Screen_Height=880 #The Height of Your Physical Screen In Pixels\n",
    "Screen_Width=1920 #The Width of Your Physical Screen In Pixels\n",
    "\n",
    "#Room Type:\n",
    "Room_Type=\"Fixed\" #\"Fixed\" or \"Empty\", determines required inputs for solver.\n",
    "\n",
    "#Image Designation:\n",
    "floor = 'ExampleRoom.png' # you need the path to the image file on YOUR computer\n",
    "\n",
    "#Json Data:\n",
    "Json_Load_Name=\"RoomData.txt\" #Json to load from if load_from_json is true\n",
    "Load_From_Json=False #True or false, whether or not to load the data from Json_load_Name to the tool\n",
    "Save_To_Json=False #True or false, whetther or not to save the data to Json_Save_Name\n",
    "Json_Save_Name=\"RoomData2.txt\" #The name of the Json you want to save to. The tool will write a tool if there is no json of the name.\n",
    "\n",
    "#Scale Selection Configs:\n",
    "LengthOfScaleInUnits=20 #How many units long the scale is\n",
    "DistanceInUnitsForSocialDistancing=6 #How many units apart the guidelines for social distancing\n",
    "ScaleOrientation=\"Horizontal\" #\"Horizontal\" or \"Vertical\"\n",
    "\n",
    "#Polygon Creation Configs:\n",
    "Chair_Scale=10 #The amount by which to scale up chairs when defining their shapes.\n",
    "\n",
    "#Solution Configs:\n",
    "solution_name=\"ExampleRoomSolution\" #The name of the solution image\n",
    "Solution_dpi=1000 #dpi for the solution\n",
    "\n",
    "#Chair Recognition Configs:\n",
    "finding_threshold=0.6 #The finding threshold of chairs.\n",
    "\n",
    "#Show Instructions:\n",
    "Show_Instructions=True\n",
    "\n"
   ]
  },
  {
   "cell_type": "markdown",
   "metadata": {},
   "source": [
    "At this point, run all remaining cells in the jupyter notebook. In the menu that pops up, clicking in a green or red rectangular button will bring you to the corresponding input screen. Green buttons indicate input methods that have already been completed, while red buttons indicate input methods that have yet to be completed. Completed input methods can be rerun to re-do their input portion, but this will result in the mandatory re-doing of all input methods that have it as a prerequisite. The tool will add more input method buttons as you complete their prerequisites. "
   ]
  },
  {
   "cell_type": "code",
   "execution_count": 3,
   "metadata": {},
   "outputs": [],
   "source": [
    "cpmain.launch_classroom_planner(Screen_Height,Screen_Width, Room_Type, floor, \n",
    "Json_Load_Name, Load_From_Json, Save_To_Json, Json_Save_Name,\n",
    "LengthOfScaleInUnits, DistanceInUnitsForSocialDistancing, ScaleOrientation,\n",
    "Chair_Scale, solution_name, Solution_dpi, finding_threshold, Show_Instructions)"
   ]
  },
  {
   "cell_type": "code",
   "execution_count": null,
   "metadata": {},
   "outputs": [],
   "source": []
  }
 ],
 "metadata": {
  "kernelspec": {
   "display_name": "Python 3",
   "language": "python",
   "name": "python3"
  },
  "language_info": {
   "codemirror_mode": {
    "name": "ipython",
    "version": 3
   },
   "file_extension": ".py",
   "mimetype": "text/x-python",
   "name": "python",
   "nbconvert_exporter": "python",
   "pygments_lexer": "ipython3",
   "version": "3.7.6"
  }
 },
 "nbformat": 4,
 "nbformat_minor": 4
}
